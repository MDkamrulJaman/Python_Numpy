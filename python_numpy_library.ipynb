{
  "nbformat": 4,
  "nbformat_minor": 0,
  "metadata": {
    "colab": {
      "provenance": [],
      "collapsed_sections": [
        "u3ToM4jyugoI"
      ]
    },
    "kernelspec": {
      "name": "python3",
      "display_name": "Python 3"
    },
    "language_info": {
      "name": "python"
    }
  },
  "cells": [
    {
      "cell_type": "markdown",
      "source": [
        "#NumPy - \"Numerical Python\" Basic"
      ],
      "metadata": {
        "id": "G72G8vnLlmsc"
      }
    },
    {
      "cell_type": "code",
      "source": [
        "import numpy as np"
      ],
      "metadata": {
        "id": "YYXgBJ0_l2WA"
      },
      "execution_count": null,
      "outputs": []
    },
    {
      "cell_type": "code",
      "source": [
        "make_an_array = np.array([1,2,3,5,7])\n",
        "\n",
        "print(make_an_array)\n",
        "\n",
        "string_array =  np.array(['R', 'K', 'J'])\n",
        "print(\"array as string :\", string_array)\n",
        "\n",
        "\n",
        "dimension_1d_array = np.array(69)\n",
        "print(\"1d array:\", dimension_1d_array)\n",
        "print(\"dimensions:\",dimension_1d_array.ndim)\n",
        "\n",
        "\n",
        "dimension_1d_array_multiple_value = np.array([1,3,5,7,9])\n",
        "print(dimension_1d_array_multiple_value)\n",
        "print(\"dimensions:\",dimension_1d_array_multiple_value.ndim)\n",
        "\n",
        "\n",
        "\n",
        "\n",
        "dimension_2d_array = np.array([[1,2,4,6,8],[1,3,5,7,9]])\n",
        "print(\"2d array:\" , dimension_2d_array)\n",
        "print(\"dimensions:\", dimension_2d_array.ndim)\n",
        "\n",
        "\n",
        "\n",
        "\n",
        "dimension_3d_array = np.array([[[1, 2, 3], [4, 5, 6]], [[1, 2, 3], [4, 5, 6]]])\n",
        "print(\"3d array:\" , dimension_3d_array)\n",
        "print(\"dimensions:\", dimension_3d_array.ndim)\n",
        "\n",
        "\n",
        "\n",
        "higher_dimension = np.array([1, 2, 3, 4], ndmin=7)\n",
        "\n",
        "print(\"any dimensions:\", higher_dimension)\n",
        "print('dimensions:', higher_dimension.ndim)\n",
        "\n",
        "\n",
        "\n",
        "\n"
      ],
      "metadata": {
        "colab": {
          "base_uri": "https://localhost:8080/"
        },
        "id": "85ogPLadmKG9",
        "outputId": "40cfdc59-944f-4cb8-af80-b9788901e913"
      },
      "execution_count": null,
      "outputs": [
        {
          "output_type": "stream",
          "name": "stdout",
          "text": [
            "[1 2 3 5 7]\n",
            "array as string : ['R' 'K' 'J']\n",
            "1d array: 69\n",
            "dimensions: 0\n",
            "[1 3 5 7 9]\n",
            "dimensions: 1\n",
            "2d array: [[1 2 4 6 8]\n",
            " [1 3 5 7 9]]\n",
            "dimensions: 2\n",
            "3d array: [[[1 2 3]\n",
            "  [4 5 6]]\n",
            "\n",
            " [[1 2 3]\n",
            "  [4 5 6]]]\n",
            "dimensions: 3\n",
            "any dimensions: [[[[[[[1 2 3 4]]]]]]]\n",
            "dimensions: 7\n"
          ]
        }
      ]
    },
    {
      "cell_type": "markdown",
      "source": [
        "Slicing arrays :\n",
        "[start:end],\n",
        "[start:end:step]"
      ],
      "metadata": {
        "id": "zm99VsF8rgrc"
      }
    },
    {
      "cell_type": "code",
      "execution_count": null,
      "metadata": {
        "id": "v1fJBQ6o_ijh",
        "colab": {
          "base_uri": "https://localhost:8080/"
        },
        "outputId": "9871b499-a345-4edd-8c91-f3b6ecccb613"
      },
      "outputs": [
        {
          "output_type": "stream",
          "name": "stdout",
          "text": [
            "[1:5] : [2 3 4 5]\n",
            "[:5] : [1 2 3 4 5]\n",
            "[5:] : [6 7]\n",
            "[::3] : [1 4 7]\n",
            "[-3:-1] : [5 6]\n"
          ]
        }
      ],
      "source": [
        "array_method_apply = np.array([1,2,3,4,5,6,7])\n",
        "\n",
        "print(\"[1:5] :\",array_method_apply[1:5])\n",
        "\n",
        "print(\"[:5] :\",array_method_apply[:5])\n",
        "\n",
        "print(\"[5:] :\",array_method_apply[5:])\n",
        "\n",
        "print(\"[::3] :\",array_method_apply[::3])\n",
        "\n",
        "print(\"[-3:-1] :\",array_method_apply[-3:-1])"
      ]
    },
    {
      "cell_type": "code",
      "source": [
        "\n",
        "array = np.array([1, 2, 3, 4, 5,6,7,8,9])\n",
        "\n",
        "#copy() - it will change but didn't update\n",
        "\n",
        "copy_array= array.copy()\n",
        "array[0] = 69\n",
        "\n",
        "print(array)\n",
        "print(copy_array)\n",
        "\n",
        "#view() - it will change and update the value\n",
        "\n",
        "viewed_array = array.view()\n",
        "viewed_array[0] = 39\n",
        "\n",
        "print(array)\n",
        "print(viewed_array)\n",
        "\n",
        "# shape\n",
        "arr = np.array([[1, 2, 3, 4], [5, 6, 7, 8]])\n",
        "\n",
        "print(arr.shape)\n",
        "\n",
        "print('shape of array :', arr.shape)\n",
        "\n",
        "# reshape\n",
        "\n",
        "shaped_array = array.reshape(3, 3)\n",
        "\n",
        "print(\"row(3) * column(3):\", shaped_array)\n",
        "\n",
        "# array 1d to 3d reshape\n",
        "\n",
        "arr_1d = np.array([1, 2, 3, 4, 5, 6, 7, 8, 9, 10, 11, 12])\n",
        "\n",
        "array_1d_to_3d = arr_1d.reshape(2, 3, 2)\n",
        "\n",
        "print(\"array(2)- row(3)- column(3):\", array_1d_to_3d)\n",
        "\n",
        "# base\n",
        "\n",
        "print(\"base of array:\", array_1d_to_3d.base)\n"
      ],
      "metadata": {
        "colab": {
          "base_uri": "https://localhost:8080/"
        },
        "id": "pPiBqesgra2E",
        "outputId": "c4a4374c-3b62-45d7-f378-33f338935137"
      },
      "execution_count": null,
      "outputs": [
        {
          "output_type": "stream",
          "name": "stdout",
          "text": [
            "[69  2  3  4  5  6  7  8  9]\n",
            "[1 2 3 4 5 6 7 8 9]\n",
            "[39  2  3  4  5  6  7  8  9]\n",
            "[39  2  3  4  5  6  7  8  9]\n",
            "(2, 4)\n",
            "shape of array : (2, 4)\n",
            "row(3) * column(3): [[39  2  3]\n",
            " [ 4  5  6]\n",
            " [ 7  8  9]]\n",
            "array(2)- row(3)- column(3): [[[ 1  2]\n",
            "  [ 3  4]\n",
            "  [ 5  6]]\n",
            "\n",
            " [[ 7  8]\n",
            "  [ 9 10]\n",
            "  [11 12]]]\n",
            "base of array: [ 1  2  3  4  5  6  7  8  9 10 11 12]\n"
          ]
        }
      ]
    },
    {
      "cell_type": "code",
      "source": [
        "arr = np.array([[[1, 2, 3], [4, 5, 6]], [[7, 8, 9], [10, 11, 12]]])\n",
        "\n",
        "for x in arr:\n",
        "  print(\"x:\", x)\n",
        "  for y in x:\n",
        "    print(\" \\n y:\",y)\n",
        "    for z in y:\n",
        "      print(\"z:\", z)\n",
        "\n",
        "\n",
        "for  x in np.nditer(arr):\n",
        "  print( x)\n",
        "\n",
        "for idx, x in np.ndenumerate(arr):\n",
        "   print(idx, x)\n",
        "\n"
      ],
      "metadata": {
        "colab": {
          "base_uri": "https://localhost:8080/"
        },
        "id": "p6PXXhzv7P5Z",
        "outputId": "5de7ed2a-6806-4437-e5cc-36176b52ef3c"
      },
      "execution_count": null,
      "outputs": [
        {
          "output_type": "stream",
          "name": "stdout",
          "text": [
            "x: [[1 2 3]\n",
            " [4 5 6]]\n",
            " \n",
            " y: [1 2 3]\n",
            "z: 1\n",
            "z: 2\n",
            "z: 3\n",
            " \n",
            " y: [4 5 6]\n",
            "z: 4\n",
            "z: 5\n",
            "z: 6\n",
            "x: [[ 7  8  9]\n",
            " [10 11 12]]\n",
            " \n",
            " y: [7 8 9]\n",
            "z: 7\n",
            "z: 8\n",
            "z: 9\n",
            " \n",
            " y: [10 11 12]\n",
            "z: 10\n",
            "z: 11\n",
            "z: 12\n",
            "1\n",
            "2\n",
            "3\n",
            "4\n",
            "5\n",
            "6\n",
            "7\n",
            "8\n",
            "9\n",
            "10\n",
            "11\n",
            "12\n",
            "(0, 0, 0) 1\n",
            "(0, 0, 1) 2\n",
            "(0, 0, 2) 3\n",
            "(0, 1, 0) 4\n",
            "(0, 1, 1) 5\n",
            "(0, 1, 2) 6\n",
            "(1, 0, 0) 7\n",
            "(1, 0, 1) 8\n",
            "(1, 0, 2) 9\n",
            "(1, 1, 0) 10\n",
            "(1, 1, 1) 11\n",
            "(1, 1, 2) 12\n"
          ]
        }
      ]
    },
    {
      "cell_type": "code",
      "source": [
        "# array Filter\n",
        "\n",
        "arr = np.array([1, 2, 3, 4, 5, 6, 7])\n",
        "\n",
        "\n",
        "filter_arr = []\n",
        "\n",
        "for element in arr:\n",
        "\n",
        "  if element % 2 == 0:\n",
        "    filter_arr.append(True)\n",
        "  else:\n",
        "    filter_arr.append(False)\n",
        "\n",
        "newarr = arr[filter_arr]\n",
        "\n",
        "print(filter_arr)\n",
        "print(newarr)\n",
        "\n",
        "\n",
        "\n",
        "\n"
      ],
      "metadata": {
        "id": "hW6YFPj-9BH6",
        "colab": {
          "base_uri": "https://localhost:8080/"
        },
        "outputId": "8d2f4053-a115-49e2-af81-6e80a8a5265e"
      },
      "execution_count": null,
      "outputs": [
        {
          "output_type": "stream",
          "name": "stdout",
          "text": [
            "[False, True, False, True, False, True, False]\n",
            "[2 4 6]\n"
          ]
        }
      ]
    },
    {
      "cell_type": "code",
      "source": [
        "# array sort\n",
        "\n",
        "array = np.array([[\"md\",\"k\",\"j\",\"r\"],[3,7,5,9]])\n",
        "\n",
        "arr_sort = np.sort(array)\n",
        "print(arr_sort)\n"
      ],
      "metadata": {
        "colab": {
          "base_uri": "https://localhost:8080/"
        },
        "id": "6vkmj2scxtfc",
        "outputId": "96754d5e-185f-4744-f91c-ac838e20e7f1"
      },
      "execution_count": null,
      "outputs": [
        {
          "output_type": "stream",
          "name": "stdout",
          "text": [
            "[['j' 'k' 'md' 'r']\n",
            " ['3' '5' '7' '9']]\n"
          ]
        }
      ]
    },
    {
      "cell_type": "code",
      "source": [
        "\n",
        "# array search\n",
        "\n",
        "arr = np.array([1,2,3,4,5,6,7,8,9])\n",
        "\n",
        "search_array = np.where( arr%2 == 0)\n",
        "\n",
        "print(search_array)\n",
        "\n",
        "\n",
        "x = np.searchsorted(arr, 9)\n",
        "\n",
        "print(x)\n",
        "\n",
        "newarr = np.array_split(arr, 3)\n",
        "\n",
        "print(newarr)"
      ],
      "metadata": {
        "colab": {
          "base_uri": "https://localhost:8080/"
        },
        "id": "YJxbyrcG0kpO",
        "outputId": "497a2b52-d5a8-4f37-87c2-53644b8ac30c"
      },
      "execution_count": null,
      "outputs": [
        {
          "output_type": "stream",
          "name": "stdout",
          "text": [
            "(array([1, 3, 5, 7]),)\n",
            "8\n",
            "[array([1, 2, 3]), array([4, 5, 6]), array([7, 8, 9])]\n"
          ]
        }
      ]
    },
    {
      "cell_type": "code",
      "source": [
        "# array join\n",
        "\n",
        "\n"
      ],
      "metadata": {
        "id": "1jssEtyZ38BL"
      },
      "execution_count": null,
      "outputs": []
    },
    {
      "cell_type": "markdown",
      "source": [
        "# Numpy \"distributions\""
      ],
      "metadata": {
        "id": "u3ToM4jyugoI"
      }
    },
    {
      "cell_type": "code",
      "source": [],
      "metadata": {
        "id": "uWIRpcjcuwRa"
      },
      "execution_count": null,
      "outputs": []
    },
    {
      "cell_type": "code",
      "source": [],
      "metadata": {
        "id": "052u9dkEupkp"
      },
      "execution_count": null,
      "outputs": []
    },
    {
      "cell_type": "markdown",
      "source": [
        "# Numpy \"Universal-Function\""
      ],
      "metadata": {
        "id": "_VW_YQNhuxgZ"
      }
    },
    {
      "cell_type": "code",
      "source": [
        "arr_1 = np.array([10,20,30,40,50])\n",
        "arr_2 = np.array([100,200,300,400,500])\n",
        "arr_3 = np.array([1,3,5,7,9])\n",
        "\n",
        "# addition\n",
        "added_arr = np.add(arr_1, arr_2)\n",
        "print(\"The addition of arrays:\" ,added_arr)\n",
        "\n",
        "# subtraction\n",
        "substracted_arr = np.subtract(arr_1,arr_2)\n",
        "print(\"The subtraction of arrays:\", substracted_arr)\n",
        "\n",
        "# multiplication\n",
        "\n",
        "multiplication_arr = np.multiply(arr_1, arr_2)\n",
        "print(\"The multiplication of arrays:\", multiplication_arr)\n",
        "\n",
        "# division\n",
        "division_arr = np.divide(arr_2,arr_1)\n",
        "print(\"The division of arrays:\", division_arr)\n",
        "\n",
        "\n",
        "# power\n",
        "power_arr = np.power(arr_1, arr_3)\n",
        "print(\"The power of arrays:\", power_arr)\n",
        "\n",
        "# mod\n",
        "mod_arr = np.mod(arr_1,arr_3)\n",
        "print(\"The mod of arrays:\", mod_arr)\n",
        "\n",
        "#remainder\n",
        "remainder_arr = np.remainder(arr_1,arr_3)\n",
        "print(\"the remainder of arrays:\", remainder_arr)\n",
        "\n",
        "# Quotient and Mod\n",
        "\n",
        "quotient_mod = np.divmod(arr_1,arr_3)\n",
        "print(quotient_mod)\n"
      ],
      "metadata": {
        "id": "ideyfBefu4ll",
        "colab": {
          "base_uri": "https://localhost:8080/"
        },
        "outputId": "a3e51b10-a16c-4c68-8300-f4132eea1390"
      },
      "execution_count": null,
      "outputs": [
        {
          "output_type": "stream",
          "name": "stdout",
          "text": [
            "The addition of arrays: [110 220 330 440 550]\n",
            "The subtraction of arrays: [ -90 -180 -270 -360 -450]\n",
            "The multiplication of arrays: [ 1000  4000  9000 16000 25000]\n",
            "The division of arrays: [10. 10. 10. 10. 10.]\n",
            "The power of arrays: [              10             8000         24300000     163840000000\n",
            " 1953125000000000]\n",
            "The mod of arrays: [0 2 0 5 5]\n",
            "the remainder of arrays: [0 2 0 5 5]\n",
            "(array([10,  6,  6,  5,  5]), array([0, 2, 0, 5, 5]))\n"
          ]
        }
      ]
    },
    {
      "cell_type": "code",
      "source": [
        "\n",
        "# array using arange\n",
        "\n",
        "arr = np.arange(1,10)\n",
        "\n",
        "# Log at Base 2\n",
        "arr_base_2 = np.log2(arr)\n",
        "print(\"log2:\",arr_base_2)\n",
        "\n",
        "\n",
        "\n",
        "# Log at Base 10\n",
        "arr_base_10 =  np.log10(arr)\n",
        "print(\"log10:\", arr_base_10)\n",
        "\n",
        "\n",
        "# normal log\n",
        "normal_log = np.log(arr)\n",
        "print(normal_log)\n",
        "\n",
        "\n"
      ],
      "metadata": {
        "id": "nSKd8yTgu55x",
        "colab": {
          "base_uri": "https://localhost:8080/"
        },
        "outputId": "b0b733c0-a8c7-4d41-9a6c-74ade35d297b"
      },
      "execution_count": null,
      "outputs": [
        {
          "output_type": "stream",
          "name": "stdout",
          "text": [
            "log2: [0.         1.         1.5849625  2.         2.32192809 2.5849625\n",
            " 2.80735492 3.         3.169925  ]\n",
            "log10: [0.         0.30103    0.47712125 0.60205999 0.69897    0.77815125\n",
            " 0.84509804 0.90308999 0.95424251]\n",
            "[0.         0.69314718 1.09861229 1.38629436 1.60943791 1.79175947\n",
            " 1.94591015 2.07944154 2.19722458]\n"
          ]
        }
      ]
    },
    {
      "cell_type": "code",
      "source": [
        "arr1 = np.array([10,20,30,40,50])\n",
        "arr2 = np.array([1,3,5,7,9])\n",
        "\n",
        "# summation\n",
        "\n",
        "sum_arr =  np.sum([arr1, arr2])\n",
        "\n",
        "print(\"the sum of both arrays:\", sum_arr)\n",
        "\n",
        "\n",
        "# difference\n",
        "\n",
        "diff_arr = np.diff([arr1, arr2])\n",
        "\n",
        "print(\"the sum difference of both arrays\", diff_arr)\n",
        "\n",
        "\n",
        "\n",
        "\n",
        "# products\n",
        "\n",
        "prod_arr = np.prod([arr2, arr1])\n",
        "print(\"the sum product of both arrays:\", prod_arr)\n",
        "\n",
        "\n",
        "#lcm\n",
        "\n",
        "lcm = np.lcm.reduce(arr2)\n",
        "print(\"lcm:\", lcm)\n",
        "\n",
        "\n",
        "#lcm\n",
        "\n",
        "gcd = np.gcd.reduce(arr1)\n",
        "print(\"gcd:\", gcd)\n"
      ],
      "metadata": {
        "colab": {
          "base_uri": "https://localhost:8080/"
        },
        "id": "SvRk6NlAA4nQ",
        "outputId": "3f3b8e64-ae99-414f-f447-346e412a5955"
      },
      "execution_count": null,
      "outputs": [
        {
          "output_type": "stream",
          "name": "stdout",
          "text": [
            "the sum of both arrays: 175\n",
            "the sum difference of both arrays [[10 10 10 10]\n",
            " [ 2  2  2  2]]\n",
            "the sum product of both arrays: 11340000000\n",
            "lcm: 315\n",
            "gcd: 10\n"
          ]
        }
      ]
    },
    {
      "cell_type": "code",
      "source": [
        "arr = np.array([np.pi/2, np.pi, 1.5*np.pi, 2*np.pi])\n",
        "\n",
        "x = np.rad2deg(arr)\n",
        "\n",
        "\n",
        "arr = np.array([1, -1, 0.1])\n",
        "\n",
        "x = np.arcsin(arr)\n"
      ],
      "metadata": {
        "id": "hpTuzVWbE1LC"
      },
      "execution_count": null,
      "outputs": []
    },
    {
      "cell_type": "code",
      "source": [],
      "metadata": {
        "id": "nvD1TQ2pFFLb"
      },
      "execution_count": null,
      "outputs": []
    }
  ]
}